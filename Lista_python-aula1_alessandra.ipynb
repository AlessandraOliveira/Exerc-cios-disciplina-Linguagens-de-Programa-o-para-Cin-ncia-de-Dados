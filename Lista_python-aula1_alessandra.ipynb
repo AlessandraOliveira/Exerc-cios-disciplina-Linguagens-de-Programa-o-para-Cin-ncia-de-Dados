{
 "cells": [
  {
   "cell_type": "markdown",
   "metadata": {},
   "source": [
    "# Bem-Vindo ao Mundo Python!"
   ]
  },
  {
   "cell_type": "markdown",
   "metadata": {},
   "source": [
    "## Exercício 1\n",
    "*Calculando o IMC*\n",
    "\n",
    "O Índice de Massa Corporal (IMC) é uma medida internacional usada para calcular se uma pessoa está em seu peso ideal.\n",
    "O cálculo do IMC é determinado pela divisão da massa do indivíduo em quilogramas pelo quadrado de sua altura em metros.\n",
    "\n",
    "\n",
    "\n",
    "$$IMC=\\frac{massa}{(altura * altura)}$$\n",
    "\n",
    "\n",
    "\n",
    "Escreva um programa que leia do usuário sua altura e peso e calcule seu IMC.\n"
   ]
  },
  {
   "cell_type": "code",
   "execution_count": 1,
   "metadata": {},
   "outputs": [
    {
     "name": "stdout",
     "output_type": "stream",
     "text": [
      "Altura: 1.65\n",
      "  Peso: 54\n",
      "IMC: 19.834710743801654\n"
     ]
    }
   ],
   "source": [
    "# TODO: Complete o Código Abaixo\n",
    "\n",
    "altura = float(input('Altura: '))\n",
    "peso = float(input('  Peso: '))\n",
    "\n",
    "imc = peso / (altura ** 2)\n",
    "             \n",
    "print(\"IMC:\", + imc)\n",
    "             #Outra forma de escrever o resultado = print (\"IMC: {:.2f}\".format(imc))"
   ]
  },
  {
   "cell_type": "code",
   "execution_count": 5,
   "metadata": {},
   "outputs": [
    {
     "name": "stdout",
     "output_type": "stream",
     "text": [
      "Informe sua altura1.85\n",
      "Informe seu peso60.5\n",
      "Seu imc é 17.67713659605551\n"
     ]
    }
   ],
   "source": [
    "#refeito\n",
    "altura = float(input('Informe sua altura'))\n",
    "peso = float(input('Informe seu peso'))\n",
    "\n",
    "imc = peso / (altura ** 2)\n",
    "\n",
    "print ('Seu imc é {}'.format(imc))"
   ]
  },
  {
   "cell_type": "markdown",
   "metadata": {},
   "source": [
    "## Exercícios\n",
    "\n",
    "1. O que o código a seguir imprime?\n",
    "\n",
    "```python\n",
    "print(“*\\n**\\n***\\n****\\n*****”)\n",
    "```\n",
    "\n",
    "2. O que aparece na janela do console, quando cada uma das instruções abaixo são executadas, para: x = 2 e y = 3? Execute cada uma das linhas abaixos e, se necessário, faça os devidos ajustes no código.\n",
    "    1. *print(“x = ” + x);*\n",
    "    2. *print(“O valor de x + x é ” + (x + x));*\n",
    "    3. *print(“x = ”);*\n",
    "    4. *print((x + y) + “ = “ + (y + x));*\n",
    "\n",
    "\n",
    "3. Escreva um programa que leia o nome, o sobrenome e o número de matrícula de um estudante. Em seguida, formate e imprima os dados lidos da seguinte forma: [matrícula] nome sobrenome.\n",
    "\n",
    "4. Escreva um programa que solicite do usuário dois números, e imprima o resultado da soma, subtração, multiplicação e divisão.\n",
    "\n",
    "5. Escreva um programa que receba como entrada o raio de um círculo e imprima o diâmetro, a circunferência e a área. Para isso, utilize as fórmulas: diâmetro = 2r; circunferência = 2πr, área = πr².\n",
    "\n",
    "6. Escreva um programa que receba como entrada um número de 5 dígitos, separe o número em dígitos individuais e os imprima separados por 3 espaços cada um. Por exemplo, se o usuário digitar 42339, o programa deverá imprimir: 4    2    3    3.   Dica: utilize as operações de divisão e módulo para extrair cada dígito do número."
   ]
  },
  {
   "cell_type": "code",
   "execution_count": 8,
   "metadata": {},
   "outputs": [
    {
     "name": "stdout",
     "output_type": "stream",
     "text": [
      "*\n",
      "**\n",
      "***\n",
      "****\n",
      "*****\n"
     ]
    }
   ],
   "source": [
    "#Ex 1\n",
    "\n",
    "print (\"*\\n**\\n***\\n****\\n*****\")"
   ]
  },
  {
   "cell_type": "code",
   "execution_count": 7,
   "metadata": {},
   "outputs": [
    {
     "name": "stdout",
     "output_type": "stream",
     "text": [
      "*\n",
      "**\n",
      "***\n",
      "****\n",
      "*****\n"
     ]
    }
   ],
   "source": [
    "#refeito\n",
    "\n",
    "print ('*\\n**\\n***\\n****\\n*****')"
   ]
  },
  {
   "cell_type": "code",
   "execution_count": 1,
   "metadata": {},
   "outputs": [
    {
     "name": "stdout",
     "output_type": "stream",
     "text": [
      "x = 2\n",
      "O valor de x + x é 4\n",
      "x = \n",
      "2 + 3 = 3 + 2\n"
     ]
    }
   ],
   "source": [
    "#Ex 2\n",
    "\n",
    "x = int(2)\n",
    "y = int(3)\n",
    "\n",
    "print (\"x =\", + x)\n",
    "print(\"O valor de x + x é\" , (x + x))\n",
    "print(\"x = \",)\n",
    "print(\"{:d} + {:d} = {:d} + {:d}\" .format(x, y, y, x))\n",
    "\n",
    "# resultado = ?\n",
    "\n",
    "#print(resultado)"
   ]
  },
  {
   "cell_type": "code",
   "execution_count": 2,
   "metadata": {},
   "outputs": [
    {
     "name": "stdout",
     "output_type": "stream",
     "text": [
      "x = 2\n",
      "O valor de x + x é 4\n",
      "x =\n",
      "5 = 5\n",
      "( 2 + 3 ) = ( 3 + 2 )\n"
     ]
    }
   ],
   "source": [
    "#Refeito\n",
    "#O que aparece na janela do console, quando cada uma das instruções abaixo são executadas, para: x = 2 e y = 3?\n",
    "#Execute cada uma das linhas abaixos e, se necessário, faça os devidos ajustes no código.\n",
    "\n",
    "#print(“x = ” + x);\n",
    "#print(“O valor de x + x é ” + (x + x));\n",
    "#print(“x = ”);\n",
    "#print((x + y) + “ = “ + (y + x));\n",
    "\n",
    "x = int(2)\n",
    "y = int(3)\n",
    "\n",
    "print('x =', x)\n",
    "print ('O valor de x + x é', (x + x))\n",
    "print ('x =')\n",
    "print (( x + y), '=', (y + x))\n",
    "print ( '(', x, '+', y, ')', '=', '(', y, '+', x, ')')\n"
   ]
  },
  {
   "cell_type": "code",
   "execution_count": 2,
   "metadata": {
    "scrolled": true
   },
   "outputs": [
    {
     "name": "stdin",
     "output_type": "stream",
     "text": [
      "Nome:  Alessandra\n",
      "Sobrenome:  Oliveira\n",
      "Matrícula:  10\n"
     ]
    },
    {
     "name": "stdout",
     "output_type": "stream",
     "text": [
      "[10] Alessandra Oliveira\n"
     ]
    }
   ],
   "source": [
    "# Exe3\n",
    "\n",
    "nome = str(input('Nome: '))\n",
    "sobrenome = str(input('Sobrenome: '))\n",
    "matricula = int(input('Matrícula: '))\n",
    "\n",
    "print ('[{}] {} {}'. format(matricula, nome, sobrenome))\n",
    "\n",
    "#rint(\"[{}] {} {}\".format(matricula, nome, sobrenome)\n",
    "#print (\"[\", matricula \"]\") print ( nome + sobrenome )"
   ]
  },
  {
   "cell_type": "code",
   "execution_count": 25,
   "metadata": {},
   "outputs": [
    {
     "name": "stdout",
     "output_type": "stream",
     "text": [
      "Número 1: 10\n",
      "Número 2: 20\n",
      "Soma 30\n",
      "Subtração -10\n",
      "Multiplicação 200\n",
      "Divisão 0.5\n"
     ]
    }
   ],
   "source": [
    "# Exe 4\n",
    "#Escreva um programa que solicite do usuário dois números, e imprima o resultado da soma, subtração, multiplicação e divisão\n",
    "primeiro_nro = int(input('Número 1: '))\n",
    "segundo_nro = int(input('Número 2: '))\n",
    "\n",
    "print(\"Soma\", + (primeiro_nro + segundo_nro))\n",
    "print(\"Subtração\", + (primeiro_nro - segundo_nro))\n",
    "print(\"Multiplicação\", + (primeiro_nro * segundo_nro))\n",
    "print(\"Divisão\", + (primeiro_nro / segundo_nro))\n"
   ]
  },
  {
   "cell_type": "code",
   "execution_count": 3,
   "metadata": {},
   "outputs": [
    {
     "name": "stdout",
     "output_type": "stream",
     "text": [
      "Diga um número15\n",
      "Diga outro número2\n",
      "Soma 17\n",
      "Subtração 13\n",
      "Multiplicação 30\n",
      "Divisão 7.5\n"
     ]
    }
   ],
   "source": [
    "# Exe 4 - refeito\n",
    "#Escreva um programa que solicite do usuário dois números, e imprima o resultado da soma, subtração, multiplicação e divisão\n",
    "\n",
    "nro1 = int(input('Diga um número'))\n",
    "nro2 = int(input('Diga outro número'))\n",
    "\n",
    "print('Soma', (nro1 + nro2))\n",
    "print('Subtração', (nro1 - nro2))\n",
    "print('Multiplicação', (nro1 * nro2))\n",
    "print('Divisão', (nro1 / nro2))\n"
   ]
  },
  {
   "cell_type": "code",
   "execution_count": 4,
   "metadata": {},
   "outputs": [
    {
     "name": "stdout",
     "output_type": "stream",
     "text": [
      "Raio: 15\n",
      "Diâmetro 30.0\n",
      "Circunferência 94.24777960769379\n",
      "Área 706.8583470577034\n"
     ]
    }
   ],
   "source": [
    "#Exe 5\n",
    "#Escreva um programa que receba como entrada o raio de um círculo e imprima o diâmetro, a circunferência e a área.\n",
    "#Para isso, utilize as fórmulas: diâmetro = 2r; circunferência = 2πr, área = πr².\n",
    "\n",
    "import math\n",
    "\n",
    "raio = float(input('Raio: '))\n",
    "#pi = float(3.14)\n",
    "\n",
    "print(\"Diâmetro\", ( 2 * raio))\n",
    "print(\"Circunferência\", ( 2 * math.pi * raio))\n",
    "print(\"Área\", ( math.pi * raio ** 2))\n"
   ]
  },
  {
   "cell_type": "code",
   "execution_count": 5,
   "metadata": {},
   "outputs": [
    {
     "name": "stdout",
     "output_type": "stream",
     "text": [
      "Qual o raio da circunferência?52\n",
      "Diâmetro 104.0\n",
      "Circunferência 326.7256359733385\n",
      "Área 8494.8665353068\n"
     ]
    }
   ],
   "source": [
    "#Exe 5 - refeito\n",
    "#Escreva um programa que receba como entrada o raio de um círculo e imprima o diâmetro, a circunferência e a área.\n",
    "#Para isso, utilize as fórmulas: diâmetro = 2r; circunferência = 2πr, área = πr².\n",
    "\n",
    "import math\n",
    "\n",
    "raio = float(input('Qual o raio da circunferência?'))\n",
    "\n",
    "print('Diâmetro', (2 * raio))\n",
    "print('Circunferência', (2 * math.pi * raio))\n",
    "print('Área', (math.pi * raio ** 2))\n"
   ]
  },
  {
   "cell_type": "code",
   "execution_count": 31,
   "metadata": {},
   "outputs": [
    {
     "name": "stdout",
     "output_type": "stream",
     "text": [
      "Número: 5\n",
      "0 0 0 0 5\n"
     ]
    }
   ],
   "source": [
    "# Exe 6\n",
    "#Escreva um programa que receba como entrada um número de 5 dígitos,\n",
    "#separe o número em dígitos individuais e os imprima separados por 3 espaços cada um.\n",
    "#Por exemplo, se o usuário digitar 42339, o programa deverá imprimir: 4 2 3 3.\n",
    "#Dica: utilize as operações de divisão e módulo para extrair cada dígito do número\n",
    "\n",
    "numero = int(input('Número: '))\n",
    "\n",
    "n1 = (numero // 10000)\n",
    "\n",
    "n2 = ((numero % 10000) // 1000)\n",
    "       \n",
    "n3 = ((numero % 1000) // 100)\n",
    "\n",
    "n4 = ((numero % 100) // 10)\n",
    "\n",
    "n5 = ((numero % 10) // 1)\n",
    "\n",
    "print (n1, +n2, +n3, +n4, +n5)"
   ]
  },
  {
   "cell_type": "markdown",
   "metadata": {},
   "source": [
    "## Exercícios\n",
    "\n",
    "1. Escreva um programa que leia dois números inteiros que determine e verifique se o primeiro é um múltiplo do segundo. Por exemplo: se o usuário digitar 15 e 3, o primeiro número será múltiplo do segundo; se o usuário digitar 2 e 4, o primeiro número não será múltiplo do segundo. Dica: use o operador módulo para obter o resto da divisão.\n",
    "\n",
    "2. Escreva um programa que calcule o quadrado e o cubo dos números de 0 a 10, e imprima os valores em forma de tabela. Número | Quadrado | Cubo\n",
    "\n",
    "3. Escreva um programa que receba dois números inteiros como entrada e verifica qual deles é o maior.\n",
    "\n",
    "4. Escreva um programa que leia apenas uma letra do alfabeto como entrada e classifique-a como vogal ou consoante. Seu programa deverá aceitar como entrada apenas um caractere, ou seja, se o usuário digitar dois ou mais caracteres, o sistema deverá informar ao usuário a entrada rejeitada.\n"
   ]
  },
  {
   "cell_type": "code",
   "execution_count": 23,
   "metadata": {},
   "outputs": [
    {
     "name": "stdout",
     "output_type": "stream",
     "text": [
      "Digite um número2\n",
      "Digite outro número5\n",
      "Não é múltiplo!\n"
     ]
    }
   ],
   "source": [
    "#Exe 1 - resolução\n",
    "# Escreva um programa que leia dois números inteiros que determine e verifique se o primeiro é um múltiplo do segundo.\n",
    "#Por exemplo: se o usuário digitar 15 e 3, o primeiro número será múltiplo do segundo;\n",
    "#se o usuário digitar 2 e 4, o primeiro número não será múltiplo do segundo.\n",
    "#Dica: use o operador módulo para obter o resto da divisão.\n",
    "\n",
    "nro1 = int(input('Digite um número'))\n",
    "nro2 = int(input('Digite outro número'))\n",
    "\n",
    "nro3 = (nro2 % nro1)\n",
    "\n",
    "if nro3 == 0:\n",
    "    print('É multiplo!')\n",
    "else:\n",
    "    print('Não é múltiplo!')"
   ]
  },
  {
   "cell_type": "code",
   "execution_count": 17,
   "metadata": {},
   "outputs": [
    {
     "name": "stdout",
     "output_type": "stream",
     "text": [
      "Número | Quadrado | Cubo\n",
      "   0   |    0     | 0 \n",
      "   1   |    1     | 1 \n",
      "   2   |    4     | 8 \n",
      "   3   |    9     | 27 \n",
      "   4   |    16     | 64 \n",
      "   5   |    25     | 125 \n",
      "   6   |    36     | 216 \n",
      "   7   |    49     | 343 \n",
      "   8   |    64     | 512 \n",
      "   9   |    81     | 729 \n"
     ]
    }
   ],
   "source": [
    "# Exe2 - resolução\n",
    "#Escreva um programa que calcule o quadrado e o cubo dos números de 0 a 10,\n",
    "#e imprima os valores em forma de tabela. Número | Quadrado | Cubo\n",
    "\n",
    "numero = 0\n",
    "quadrado = 0\n",
    "cubo = 0\n",
    "\n",
    "print('Número | Quadrado | Cubo')\n",
    "\n",
    "for i in range(0, 10, 1):\n",
    "    if numero <= 10:\n",
    "        quadrado = numero ** 2\n",
    "        cubo = numero ** 3\n",
    "        print('   {}   |    {}     | {} '.format(numero, quadrado, cubo))\n",
    "        numero = numero + 1\n"
   ]
  },
  {
   "cell_type": "code",
   "execution_count": 18,
   "metadata": {},
   "outputs": [
    {
     "name": "stdin",
     "output_type": "stream",
     "text": [
      "Digite o primeiro número 1\n",
      "Digite o segundo número 2\n"
     ]
    },
    {
     "name": "stdout",
     "output_type": "stream",
     "text": [
      "O número 2 é maior que 1\n"
     ]
    }
   ],
   "source": [
    "## EXE 03\n",
    "\n",
    "num1 = int(input('Digite o primeiro número'))\n",
    "num2 = int(input('Digite o segundo número'))\n",
    "\n",
    "if num1 > num2:\n",
    "    print('O número {} é maior que {}'.format(num1, num2))\n",
    "else:\n",
    "    print('O número {} é maior que {}'.format(num2, num1))"
   ]
  },
  {
   "cell_type": "code",
   "execution_count": 53,
   "metadata": {},
   "outputs": [
    {
     "name": "stdin",
     "output_type": "stream",
     "text": [
      "Digite uma letra a\n"
     ]
    },
    {
     "name": "stdout",
     "output_type": "stream",
     "text": [
      "É vogal!\n"
     ]
    }
   ],
   "source": [
    "### EXE 04\n",
    "letra = str(input('Digite uma letra'))\n",
    "\n",
    "if len(letra) > 1:\n",
    "    \n",
    "    print('Quantidade de caracteres invalia! Você deve informar apenas 1 digito')\n",
    "\n",
    "else:\n",
    "    \n",
    "    if letra in '0123456789':\n",
    "        print('Carctere inválido! Deve ser informado uma letra!')\n",
    "        \n",
    "    else:\n",
    "        if letra in 'aeiou':\n",
    "            print('É vogal!')\n",
    "        else:\n",
    "            print('É consoante!')"
   ]
  },
  {
   "cell_type": "markdown",
   "metadata": {},
   "source": [
    "# Exercícios\n",
    "\n",
    "1. Uma empresa quer transmitir dados pelo telefone, mas está preocupada com a interceptação telefônica. Todos os seus dados são transmitidos  como inteiros de quatro dígitos. Ela pediu para que você escreva um programa que criptografe seus dados, para que eles possam ser transmitidos com mais segurança. Seu aplicativo deve ler um inteiro de quatro dígitos fornecidos pelo usuário e criptografá-lo da seguinte forma: substitua cada dígitos por (a soma desse dígitos mais 7) módulo 10. Em seguida, troque o primeiro dígito pelo terceiro e troque o segundo dígito pelo quarto e imprima o inteiro criptografado.\n",
    "\n",
    "2. Implemente a função par que retorna verdadeiro se um número inteiro passado como parâmetro for par ou falso caso ele seja ímpar. Teste seu programa chamando a função para verificar os números de 0 à 10.\n",
    "\n",
    "3. Escreva um programa que leia 3 números inteiros referente ao comprimento dos lados de um triângulo e classifique como: triângulo equilátero, isósceles ou escaleno.\n",
    "\n",
    "4. Escreva um programa que aceita um número como entrada e insere hífens (-) entre dois números pares. Por exemplo, se receber o número 02368859 como entrada, a saída do programa deverá ser: 0-236-8-859.\n",
    "\n",
    "5. Escreva um programa que encontre o item mais frequente de um vetor. Exemplo: [2, 7, 7, 7, ‘#’, ‘#’, ‘#’, ‘@’, 3, ‘#’, 6]  // Saída: # aparece 4 vezes\n",
    "\n",
    "6. Um número de Armstrong de 3 dígitos é um inteiro pelo qual a soma dos cubos dos seus dígitos é igual ao seu número. Por exemplo: o número inteiro 371 é um número de Armstrong, porque 3³ + 7³ + 1³ = 371. Escreva um programa que verifique se um número de 3 dígitos fornecido como entrada é um número de Armstrong.\n",
    "\n",
    "7. Escreva uma função ue receba uma string e conte o número de vogais dentro dela, por exemplo: entrada: ‘Ciência de Dados’, saída: 7 vogais\n",
    "\n",
    "8. Implemente em Python o algoritmo de Busca Binária\n",
    "\n",
    "9. Escreva uma função que receba algum valor como parâmetro e retorne seu tipo\n",
    "\n",
    "10. Escreva uma função que receba um lista numérica como parâmetro e retorne os segundos maiores e menores números da sequência, por exemplo: entrada [1, 2, 3, 4, 5, 6, 7, 8, 9], saída [2, 8].\n",
    "\n",
    "12.  Escreva uma função que receba um número inteiro como entrada (px.: 32243) e retorne o número invertido (px.: 34223)."
   ]
  },
  {
   "cell_type": "code",
   "execution_count": 26,
   "metadata": {},
   "outputs": [
    {
     "name": "stdin",
     "output_type": "stream",
     "text": [
      "Digite seu nro que deve ter 4 digitos: 1876\n"
     ]
    },
    {
     "name": "stdout",
     "output_type": "stream",
     "text": [
      "1\n",
      "4385\n"
     ]
    }
   ],
   "source": [
    "# EXE 01\n",
    "\n",
    "numero = int(input('Digite seu nro que deve ter 4 digitos:'))\n",
    "\n",
    "if numero / 1000 > 9:\n",
    "    print('Seu numero tem mais de 4 digitos, informe novamente')\n",
    "    \n",
    "if numero / 1000 < 1:\n",
    "    print('Seu numero tem menos de 4 digitos, informe novamente')\n",
    "\n",
    "n1 = (numero // 1000)\n",
    "n2 = (numero % 1000) // 100\n",
    "n3 = (numero % 100) // 10\n",
    "n4 = (numero % 10) // 1\n",
    "\n",
    "n1 = (n1 + 7) % 10\n",
    "n2 = (n2 + 7) % 10\n",
    "n3 = (n3 + 7) % 10\n",
    "n4 = (n4 + 7) % 10\n",
    "\n",
    "n3 = n3 * 1000\n",
    "n4 = n4 * 100\n",
    "n1 = n1 * 10\n",
    "\n",
    "print(n1 + n2 + n3 + n4)"
   ]
  },
  {
   "cell_type": "code",
   "execution_count": 27,
   "metadata": {},
   "outputs": [
    {
     "name": "stdout",
     "output_type": "stream",
     "text": [
      "True\n",
      "False\n",
      "True\n",
      "False\n",
      "True\n",
      "False\n",
      "True\n",
      "False\n",
      "True\n",
      "False\n",
      "True\n"
     ]
    }
   ],
   "source": [
    "# EXE 02\n",
    "\n",
    "def verifica(a):\n",
    "    if a % 2 == 0:\n",
    "        print('True')\n",
    "    else:\n",
    "        print('False')\n",
    "    \n",
    "for c in range(0, 11):\n",
    "    verifica(c)"
   ]
  },
  {
   "cell_type": "code",
   "execution_count": 1,
   "metadata": {},
   "outputs": [
    {
     "name": "stdin",
     "output_type": "stream",
     "text": [
      "Digite o lado 1 do triangulo 2\n",
      "Digite o lado 2 do triangulo 2\n",
      "Digite o lado 3 do triangulo 2\n"
     ]
    },
    {
     "name": "stdout",
     "output_type": "stream",
     "text": [
      "Forma um triângulo EQUILATERO\n"
     ]
    }
   ],
   "source": [
    "## EXE 03\n",
    "#Escreva um programa que leia 3 números inteiros referente ao comprimento dos lados de um triângulo e classifique como:\n",
    "#triângulo equilátero, isósceles ou escaleno.\n",
    "\n",
    "lado1 = float(input('Digite o lado 1 do triangulo'))\n",
    "lado2 = float(input('Digite o lado 2 do triangulo'))\n",
    "lado3 = float(input('Digite o lado 3 do triangulo'))\n",
    "\n",
    "if lado1 < lado2 + lado3 and lado2 < lado1 + lado3 and lado3 < lado1 + lado2:\n",
    "    print('Forma um triângulo', end=' ')\n",
    "    if lado1 == lado2 == lado3:\n",
    "        print('EQUILATERO')\n",
    "    elif lado1 != lado2 != lado3 != lado1:\n",
    "        print('ESCALENO')\n",
    "    else:\n",
    "        print('ISÓCELES')\n",
    "        \n",
    "else:\n",
    "    print('Não forma um triângulo')\n"
   ]
  },
  {
   "cell_type": "code",
   "execution_count": 2,
   "metadata": {},
   "outputs": [
    {
     "name": "stdin",
     "output_type": "stream",
     "text": [
      "Digite um número: 1\n"
     ]
    },
    {
     "name": "stdout",
     "output_type": "stream",
     "text": [
      "1\n"
     ]
    }
   ],
   "source": [
    "##### EXE 04\n",
    "entrada = input('Digite um número:')\n",
    "resultado= ''\n",
    "\n",
    "for caractere in entrada:\n",
    "    if caractere in '02468':\n",
    "        if len(resultado) > 0 and resultado[-1] in '02468':\n",
    "            resultado += '-'\n",
    "    resultado += caractere\n",
    "        \n",
    "print(resultado)\n",
    "    "
   ]
  },
  {
   "cell_type": "code",
   "execution_count": 3,
   "metadata": {},
   "outputs": [
    {
     "name": "stdin",
     "output_type": "stream",
     "text": [
      "Digite sua lista: 15\n"
     ]
    },
    {
     "name": "stdout",
     "output_type": "stream",
     "text": [
      "1 aparece 1 vezes\n"
     ]
    }
   ],
   "source": [
    "##### EXE 05\n",
    "\n",
    "\n",
    "aux = int(0)\n",
    "letra = str('')\n",
    "item_vetor = str('')\n",
    "z = int(0)\n",
    "\n",
    "vetor = list(input('Digite sua lista:'))\n",
    "#vetor = ['g','c','a','2','3','4','a','a','c']\n",
    "\n",
    "for i in vetor:\n",
    "    numero = vetor.count(i)\n",
    "    letra = vetor[z]\n",
    "    z = z + 1\n",
    "    if numero > aux:\n",
    "        aux = numero\n",
    "        item_vetor = letra\n",
    "\n",
    "print('{} aparece {} vezes'.format(item_vetor, aux))"
   ]
  },
  {
   "cell_type": "code",
   "execution_count": 5,
   "metadata": {},
   "outputs": [
    {
     "name": "stdin",
     "output_type": "stream",
     "text": [
      "Digite um número com 3 digitos: 371\n"
     ]
    },
    {
     "name": "stdout",
     "output_type": "stream",
     "text": [
      "Esse é um número de Armstrong!\n"
     ]
    }
   ],
   "source": [
    "## EXE 06\n",
    "\n",
    "num = int(input('Digite um número com 3 digitos:'))\n",
    "\n",
    "num1 = (num // 100)\n",
    "num2 = (num // 10) % 10\n",
    "num3 = (num // 1) % 10\n",
    "\n",
    "if num1**3 + num2**3 + num3**3 == num:\n",
    "    print('Esse é um número de Armstrong!')       \n",
    "else:\n",
    "    print('Esse NÃO É um número de Armstrong!')"
   ]
  },
  {
   "cell_type": "code",
   "execution_count": 13,
   "metadata": {},
   "outputs": [
    {
     "name": "stdin",
     "output_type": "stream",
     "text": [
      "Digite sua frase: Vamos testar PARA VER se VAi dar\n"
     ]
    },
    {
     "name": "stdout",
     "output_type": "stream",
     "text": [
      "11\n"
     ]
    }
   ],
   "source": [
    "## EXE 07\n",
    "#Escreva uma função que receba uma string e conte o número de vogais dentro dela, por exemplo: entrada: ‘Ciência de Dados’, saída: 7 vogais\n",
    "# Falou definir como uma função\n",
    "\n",
    "def contagem_vogais(texto):\n",
    "\n",
    "    texto = texto.lower() #converte para minúsculas\n",
    "\n",
    "    #removem espaços, linhas e símbolos de pontuação\n",
    "    texto = texto.replace(\" \",\"\")\n",
    "    texto = texto.replace(\"\\n\",\"\")\n",
    "    texto = texto.replace(\".\",\"\")\n",
    "    texto = texto.replace(\"!\",\"\")\n",
    "    texto = texto.replace(\"?\",\"\")\n",
    "    texto = texto.replace(\",\",\"\")\n",
    "    texto = texto.replace(\";\",\"\")\n",
    "\n",
    "    #removem acentos e cedilha\n",
    "    texto = texto.replace(\"á\",\"a\")\n",
    "    texto = texto.replace(\"à\",\"a\")\n",
    "    texto = texto.replace(\"ã\",\"a\")\n",
    "    texto = texto.replace(\"é\",\"e\")\n",
    "    texto = texto.replace(\"ê\",\"e\")\n",
    "    texto = texto.replace(\"í\",\"i\")\n",
    "    texto = texto.replace(\"ó\",\"o\")\n",
    "    texto = texto.replace(\"ô\",\"o\")\n",
    "    texto = texto.replace(\"ú\",\"u\")\n",
    "    texto = texto.replace(\"ç\",\"c\")\n",
    "\n",
    "    vogais = 0\n",
    "\n",
    "    for i in texto:\n",
    "        if i in 'aeiou':\n",
    "            vogais = vogais + 1\n",
    "        \n",
    "    return vogais\n",
    "\n",
    "palavras = input('Digite sua frase:')\n",
    "\n",
    "total_vogais = contagem_vogais(palavras)\n",
    "\n",
    "print(total_vogais)\n"
   ]
  },
  {
   "cell_type": "code",
   "execution_count": 12,
   "metadata": {},
   "outputs": [
    {
     "name": "stdin",
     "output_type": "stream",
     "text": [
      "informe o número que você quer consultar a posição:  5\n"
     ]
    },
    {
     "name": "stdout",
     "output_type": "stream",
     "text": [
      "2\n"
     ]
    }
   ],
   "source": [
    "## EXE 08 - Implemente em Python o algoritmo de Busca Binária\n",
    "\n",
    "lista = [1, 2, 5, 6, 87, 6, 9, 44, 55, 620]\n",
    "numero = int(input('informe o número que você quer consultar a posição: '))\n",
    "\n",
    "menor = 0\n",
    "maior = len(lista) - 1\n",
    "\n",
    "while menor <= maior:\n",
    "    valor_do_meio = int((menor + maior) / 2)\n",
    "    chute = int(lista[valor_do_meio])\n",
    "    if chute == numero:\n",
    "        print(valor_do_meio)\n",
    "    if chute > numero:\n",
    "        maior = valor_do_meio - 1\n",
    "    else:\n",
    "        menor = valor_do_meio + 1"
   ]
  },
  {
   "cell_type": "code",
   "execution_count": 45,
   "metadata": {},
   "outputs": [
    {
     "name": "stdin",
     "output_type": "stream",
     "text": [
      " 2,7\n"
     ]
    },
    {
     "name": "stdout",
     "output_type": "stream",
     "text": [
      "<class 'str'>\n"
     ]
    }
   ],
   "source": [
    "## EXE 09\n",
    "#Escreva uma função que receba algum valor como parâmetro e retorne seu tipo\n",
    "\n",
    "valor = input()\n",
    "\n",
    "print(type(valor))"
   ]
  },
  {
   "cell_type": "code",
   "execution_count": 46,
   "metadata": {},
   "outputs": [
    {
     "ename": "IndentationError",
     "evalue": "expected an indented block (<ipython-input-46-6868a933a179>, line 2)",
     "output_type": "error",
     "traceback": [
      "\u001b[1;36m  File \u001b[1;32m\"<ipython-input-46-6868a933a179>\"\u001b[1;36m, line \u001b[1;32m2\u001b[0m\n\u001b[1;33m    se isinstance (var , str ) :\u001b[0m\n\u001b[1;37m     ^\u001b[0m\n\u001b[1;31mIndentationError\u001b[0m\u001b[1;31m:\u001b[0m expected an indented block\n"
     ]
    }
   ],
   "source": [
    "# teste 9\n",
    "def typechecker (var ) :\n",
    "    \n",
    "se isinstance (var , str ) : \n",
    "< p> print \" variável é uma string \" \n",
    "retornar \n",
    "elif isinstance (var , int ): return \n",
    "print \" variável é um inteiro \" \n",
    "\n",
    "elif isinstance (var , float) : \n",
    "print \" variável é um float \" \n",
    "retornar "
   ]
  },
  {
   "cell_type": "code",
   "execution_count": 27,
   "metadata": {},
   "outputs": [
    {
     "name": "stdout",
     "output_type": "stream",
     "text": [
      "[2, 5, 5, 6, 6, 7, 8, 8, 9, 15, 64, 251, 4588, 25841]\n",
      "Dois maiores números: 4588, 25841\n",
      "Dois menores números: 2, 5\n"
     ]
    }
   ],
   "source": [
    "## EXE 10\n",
    "# Escreva uma função que receba um lista numérica como parâmetro e retorne os segundos maiores e menores números da sequência\n",
    "#, por exemplo: entrada [1, 2, 3, 4, 5, 6, 7, 8, 9], saída [2, 8].\n",
    "\n",
    "lista = [5, 6, 8, 7, 9, 15, 64, 251, 25841, 2, 4588, 5, 6, 8]\n",
    "\n",
    "lista2 = sorted(lista)\n",
    "\n",
    "print(lista2)\n",
    "pos_maior = len(lista2)-1\n",
    "pos_seg_maior = len(lista2)-2\n",
    "\n",
    "print('Dois maiores números: {}, {}'.format(lista2[pos_seg_maior], lista2[pos_maior]))\n",
    "\n",
    "print('Dois menores números: {}, {}'.format(lista2[0], lista2[1]))"
   ]
  },
  {
   "cell_type": "code",
   "execution_count": 2,
   "metadata": {},
   "outputs": [
    {
     "name": "stdin",
     "output_type": "stream",
     "text": [
      "Digite seu numero: 145\n"
     ]
    },
    {
     "name": "stdout",
     "output_type": "stream",
     "text": [
      "541\n"
     ]
    }
   ],
   "source": [
    "## EXE11\n",
    "\n",
    "numero = str(input('Digite seu numero:')) # ler o conteudo\n",
    "list_numero = numero.split() # classifica-lo como lista\n",
    "junto = ''.join(list_numero) # retirar os espaços, caso tenha\n",
    "inverso = '' # definição de variável de saída\n",
    "\n",
    "for i in range(len(junto) - 1, -1, -1):\n",
    "    inverso += junto[i]\n",
    "\n",
    "print(inverso)"
   ]
  }
 ],
 "metadata": {
  "kernelspec": {
   "display_name": "Python 3",
   "language": "python",
   "name": "python3"
  },
  "language_info": {
   "codemirror_mode": {
    "name": "ipython",
    "version": 3
   },
   "file_extension": ".py",
   "mimetype": "text/x-python",
   "name": "python",
   "nbconvert_exporter": "python",
   "pygments_lexer": "ipython3",
   "version": "3.7.3"
  }
 },
 "nbformat": 4,
 "nbformat_minor": 2
}
