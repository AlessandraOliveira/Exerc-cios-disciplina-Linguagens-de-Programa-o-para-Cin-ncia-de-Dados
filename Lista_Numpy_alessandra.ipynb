{
 "cells": [
  {
   "cell_type": "markdown",
   "metadata": {},
   "source": [
    "## Exercícios aula 2 _ Numpy - Alessandra"
   ]
  },
  {
   "cell_type": "code",
   "execution_count": 2,
   "metadata": {},
   "outputs": [],
   "source": [
    "## EXE 01 - Usando NumPy, importe o dataset iris mantendo o seu conteúdo intacto.\n",
    "\n",
    "import numpy as np\n",
    "\n",
    "iris_dataset_url = 'https://archive.ics.uci.edu/ml/machine-learning-databases/iris/iris.data'\n",
    "colunas = ('sepallenghth', 'sapalwidth', 'petallength', 'petalwidth', 'species')\n",
    "\n",
    "iris = np.genfromtxt(iris_dataset_url, delimiter=',', dtype='object', encoding='ascii')\n",
    "\n",
    "#print(iris [:15,4])\n",
    "\n",
    "#Definir as ordens das colunas no vetor e os tipos de cada variável\n",
    "sepallenghth = iris[:, 0].astype(float)\n",
    "sapalwidth = iris[:, 1].astype(float)\n",
    "petallength = iris[:, 2].astype(float)\n",
    "petalwidth = iris[:, 3].astype(float)\n",
    "species = iris[:, 4].astype(str)\n"
   ]
  },
  {
   "cell_type": "code",
   "execution_count": 13,
   "metadata": {},
   "outputs": [
    {
     "name": "stdout",
     "output_type": "stream",
     "text": [
      "['Iris-setosa' 'Iris-setosa' 'Iris-setosa' 'Iris-setosa' 'Iris-setosa'\n",
      " 'Iris-setosa' 'Iris-setosa' 'Iris-setosa' 'Iris-setosa' 'Iris-setosa'\n",
      " 'Iris-setosa' 'Iris-setosa' 'Iris-setosa' 'Iris-setosa' 'Iris-setosa'\n",
      " 'Iris-setosa' 'Iris-setosa' 'Iris-setosa' 'Iris-setosa' 'Iris-setosa'\n",
      " 'Iris-setosa' 'Iris-setosa' 'Iris-setosa' 'Iris-setosa' 'Iris-setosa'\n",
      " 'Iris-setosa' 'Iris-setosa' 'Iris-setosa' 'Iris-setosa' 'Iris-setosa'\n",
      " 'Iris-setosa' 'Iris-setosa' 'Iris-setosa' 'Iris-setosa' 'Iris-setosa'\n",
      " 'Iris-setosa' 'Iris-setosa' 'Iris-setosa' 'Iris-setosa' 'Iris-setosa'\n",
      " 'Iris-setosa' 'Iris-setosa' 'Iris-setosa' 'Iris-setosa' 'Iris-setosa'\n",
      " 'Iris-setosa' 'Iris-setosa' 'Iris-setosa' 'Iris-setosa' 'Iris-setosa'\n",
      " 'Iris-versicolor' 'Iris-versicolor' 'Iris-versicolor' 'Iris-versicolor'\n",
      " 'Iris-versicolor' 'Iris-versicolor' 'Iris-versicolor' 'Iris-versicolor'\n",
      " 'Iris-versicolor' 'Iris-versicolor' 'Iris-versicolor' 'Iris-versicolor'\n",
      " 'Iris-versicolor' 'Iris-versicolor' 'Iris-versicolor' 'Iris-versicolor'\n",
      " 'Iris-versicolor' 'Iris-versicolor' 'Iris-versicolor' 'Iris-versicolor'\n",
      " 'Iris-versicolor' 'Iris-versicolor' 'Iris-versicolor' 'Iris-versicolor'\n",
      " 'Iris-versicolor' 'Iris-versicolor' 'Iris-versicolor' 'Iris-versicolor'\n",
      " 'Iris-versicolor' 'Iris-versicolor' 'Iris-versicolor' 'Iris-versicolor'\n",
      " 'Iris-versicolor' 'Iris-versicolor' 'Iris-versicolor' 'Iris-versicolor'\n",
      " 'Iris-versicolor' 'Iris-versicolor' 'Iris-versicolor' 'Iris-versicolor'\n",
      " 'Iris-versicolor' 'Iris-versicolor' 'Iris-versicolor' 'Iris-versicolor'\n",
      " 'Iris-versicolor' 'Iris-versicolor' 'Iris-versicolor' 'Iris-versicolor'\n",
      " 'Iris-versicolor' 'Iris-versicolor' 'Iris-virginica' 'Iris-virginica'\n",
      " 'Iris-virginica' 'Iris-virginica' 'Iris-virginica' 'Iris-virginica'\n",
      " 'Iris-virginica' 'Iris-virginica' 'Iris-virginica' 'Iris-virginica'\n",
      " 'Iris-virginica' 'Iris-virginica' 'Iris-virginica' 'Iris-virginica'\n",
      " 'Iris-virginica' 'Iris-virginica' 'Iris-virginica' 'Iris-virginica'\n",
      " 'Iris-virginica' 'Iris-virginica' 'Iris-virginica' 'Iris-virginica'\n",
      " 'Iris-virginica' 'Iris-virginica' 'Iris-virginica' 'Iris-virginica'\n",
      " 'Iris-virginica' 'Iris-virginica' 'Iris-virginica' 'Iris-virginica'\n",
      " 'Iris-virginica' 'Iris-virginica' 'Iris-virginica' 'Iris-virginica'\n",
      " 'Iris-virginica' 'Iris-virginica' 'Iris-virginica' 'Iris-virginica'\n",
      " 'Iris-virginica' 'Iris-virginica' 'Iris-virginica' 'Iris-virginica'\n",
      " 'Iris-virginica' 'Iris-virginica' 'Iris-virginica' 'Iris-virginica'\n",
      " 'Iris-virginica' 'Iris-virginica' 'Iris-virginica' 'Iris-virginica']\n"
     ]
    }
   ],
   "source": [
    "## EXE 02 - Extraia a coluna species do dataset importado na questão anterior para um vetor unidimensional.\n",
    "\n",
    "species = iris[:, 4].astype(str)\n",
    "print(species)"
   ]
  },
  {
   "cell_type": "code",
   "execution_count": 14,
   "metadata": {},
   "outputs": [
    {
     "name": "stdout",
     "output_type": "stream",
     "text": [
      "Média: 5.843333333333334\n",
      "Mediana: 5.8\n",
      "Desvio Padrão: 0.8253012917851409\n"
     ]
    }
   ],
   "source": [
    "## EXE 03 - Calcule a média, mediana e desvio padrão da primeira coluna (sepallength) do dataset Iris.\n",
    "\n",
    "media_sepallenghth = sepallenghth.mean()\n",
    "mediana_sepallenghth = np.median(sepallenghth)\n",
    "desvpad_sepallenghth = sepallenghth.std()\n",
    "\n",
    "print('Média: {}'.format(media_sepallenghth))\n",
    "print('Mediana: {}'.format(mediana_sepallenghth))\n",
    "print('Desvio Padrão: {}'.format(desvpad_sepallenghth))"
   ]
  },
  {
   "cell_type": "code",
   "execution_count": 3,
   "metadata": {},
   "outputs": [
    {
     "name": "stdout",
     "output_type": "stream",
     "text": [
      "4.3\n",
      "[5.1 4.9 4.7]\n",
      "[0.22222222 0.16666667 0.11111111]\n"
     ]
    }
   ],
   "source": [
    "## EXE 04 - Normalize a coluna (sepallength) do dataset iris de tal forma que o valor\n",
    "## mínimo seja zero (0) e o valor máximo seja 1.\n",
    "\n",
    "sepallenghth_max = sepallenghth.max()\n",
    "sepallenghth_min = sepallenghth.min()\n",
    "\n",
    "sepallenghth_normalize = ( sepallenghth - sepallenghth_min ) / (sepallenghth_max - sepallenghth_min)\n",
    "\n",
    "print(sepallenghth[:3])\n",
    "print(sepallenghth_normalize[:3])"
   ]
  },
  {
   "cell_type": "code",
   "execution_count": 21,
   "metadata": {},
   "outputs": [
    {
     "data": {
      "text/plain": [
       "array([4.6  , 7.255])"
      ]
     },
     "execution_count": 21,
     "metadata": {},
     "output_type": "execute_result"
    }
   ],
   "source": [
    "## EXE 05 - Encontre o 5º e o 95º percentil do comprimento das pétalas (sepallength) do dataset Iris.\n",
    "\n",
    "np.percentile(sepallenghth, q=[5, 95])"
   ]
  },
  {
   "cell_type": "code",
   "execution_count": 4,
   "metadata": {},
   "outputs": [
    {
     "name": "stdout",
     "output_type": "stream",
     "text": [
      "Quantidade de Valores Ausentes: 9\n",
      "Quantidade de Valores Ausentes: (array([  0,   4,   7,  35,  38,  48,  85,  92, 134], dtype=int64),)\n"
     ]
    }
   ],
   "source": [
    "## EXE 06 - \n",
    "\n",
    "#Encontre a quantidade de valores ausentes, bem como a posição deles da primeira coluna da \n",
    "#coluna comprimento das pétalas (sepallength), dentro do vetor abaixo:\n",
    "\n",
    "iris_2d = np.genfromtxt(iris_dataset_url, delimiter=',', dtype='float', usecols=[0,1,2,3])\n",
    "iris_2d[np.random.randint(150, size=20), np.random.randint(4, size=20)] = np.nan\n",
    "\n",
    "\n",
    "print('Quantidade de Valores Ausentes:', np.isnan(iris_2d[:, 0]).sum())\n",
    "print('Quantidade de Valores Ausentes:',np.where(np.isnan(iris_2d[:, 0])))\n"
   ]
  },
  {
   "cell_type": "code",
   "execution_count": 4,
   "metadata": {},
   "outputs": [
    {
     "data": {
      "text/plain": [
       "array([[4.8, 3.4, 1.6, 0.2, nan],\n",
       "       [4.8, 3.4, 1.9, 0.2, nan],\n",
       "       [4.7, 3.2, 1.6, 0.2, nan],\n",
       "       [4.8, 3.1, 1.6, 0.2, nan],\n",
       "       [4.9, 2.4, 3.3, 1. , nan],\n",
       "       [4.9, 2.5, 4.5, 1.7, nan]])"
      ]
     },
     "execution_count": 4,
     "metadata": {},
     "output_type": "execute_result"
    }
   ],
   "source": [
    "## EXE 07 - Filtre o vetor iris_2d do exercício anterior para que ele tenha:\n",
    "#(terceira coluna (petallength) > 1.5) && (primeira coluna (sepallength) < 5.0)\n",
    "\n",
    "iris_2d = np.genfromtxt(iris_dataset_url, delimiter=',', dtype='float', usecols=[0,1,2,3,4])\n",
    "\n",
    "coluna_filtrada = (iris_2d[:, 2]> 1.5) & (iris_2d[:, 0] < 5.0)\n",
    "iris_2d[coluna_filtrada]"
   ]
  },
  {
   "cell_type": "code",
   "execution_count": 4,
   "metadata": {},
   "outputs": [
    {
     "data": {
      "text/plain": [
       "array([5.1, 3.5, 1.4, 0.2, 4.9])"
      ]
     },
     "execution_count": 4,
     "metadata": {},
     "output_type": "execute_result"
    }
   ],
   "source": [
    "## EXE 08 - Selecione as linhas do vetor iris_2d que não contenham valores nan (Not a Number).\n",
    "\n",
    "iris_2d = np.genfromtxt(iris_dataset_url, delimiter=',', dtype='float', usecols=[0,1,2,3])\n",
    "\n",
    "any_nan_in_row = np.array([~np.array(np.isnan(row)) for row in iris_2d])\n",
    "iris_2d[any_nan_in_row][:5]\n",
    "\n",
    "#np.isnan(iris_2d).any()"
   ]
  },
  {
   "cell_type": "code",
   "execution_count": 35,
   "metadata": {},
   "outputs": [
    {
     "data": {
      "text/plain": [
       "array([[1.        , 0.87175416],\n",
       "       [0.87175416, 1.        ]])"
      ]
     },
     "execution_count": 35,
     "metadata": {},
     "output_type": "execute_result"
    }
   ],
   "source": [
    "## EXE 09 - Encontre a correlação entre a primeira coluna (sepallength) e a (terceira coluna (petallength) no vetor iris_2d.\n",
    "\n",
    "np.corrcoef(iris_2d[:, 0], iris_2d[:, 2])"
   ]
  },
  {
   "cell_type": "code",
   "execution_count": 3,
   "metadata": {},
   "outputs": [
    {
     "data": {
      "text/plain": [
       "True"
      ]
     },
     "execution_count": 3,
     "metadata": {},
     "output_type": "execute_result"
    }
   ],
   "source": [
    "## EXE 10 - Verifique se o vetor iris_2d possui qualquer valor faltante,\n",
    "# caso possui deverá retornar True caso contrário False.\n",
    "\n",
    "iris_2d = np.genfromtxt(iris_dataset_url, delimiter=',', dtype='float', usecols=[0,1,2,3,4])\n",
    "\n",
    "np.isnan(iris_2d).any()"
   ]
  },
  {
   "cell_type": "code",
   "execution_count": 7,
   "metadata": {},
   "outputs": [
    {
     "data": {
      "text/plain": [
       "array([[5.1, 3.5, 1.4, 0.2],\n",
       "       [4.9, 0. , 1.4, 0.2],\n",
       "       [0. , 3.2, 1.3, 0.2],\n",
       "       [4.6, 3.1, 1.5, 0.2]])"
      ]
     },
     "execution_count": 7,
     "metadata": {},
     "output_type": "execute_result"
    }
   ],
   "source": [
    "## EXE 11 - Substitua todas as ocorrências de nan (Not a Number) por zeros em um vetor NumPy.\n",
    "\n",
    "iris_2d = np.genfromtxt(iris_dataset_url, delimiter=',', dtype='float', usecols=[0,1,2,3])\n",
    "\n",
    "iris_2d[np.random.randint(150, size=20), np.random.randint(4, size=20)] = np.nan\n",
    "\n",
    "iris_2d[np.isnan(iris_2d)] = 0\n",
    "\n",
    "iris_2d[:4]"
   ]
  },
  {
   "cell_type": "code",
   "execution_count": 5,
   "metadata": {},
   "outputs": [
    {
     "data": {
      "text/plain": [
       "(array([b'Iris-setosa', b'Iris-versicolor', b'Iris-virginica'],\n",
       "       dtype=object), array([50, 50, 50], dtype=int64))"
      ]
     },
     "execution_count": 5,
     "metadata": {},
     "output_type": "execute_result"
    }
   ],
   "source": [
    "## EX 12 - Encontre e conte os valores únicos da coluna species\n",
    "\n",
    "iris_2d = np.genfromtxt(iris_dataset_url, delimiter=',', dtype='object', usecols=[4])\n",
    "\n",
    "np.unique(iris_2d, return_counts=True)"
   ]
  },
  {
   "cell_type": "code",
   "execution_count": 10,
   "metadata": {},
   "outputs": [
    {
     "name": "stdout",
     "output_type": "stream",
     "text": [
      "['pequeno', 'pequeno', 'pequeno', 'pequeno', 'pequeno', 'pequeno', 'pequeno', 'pequeno', 'pequeno', 'pequeno', 'pequeno', 'pequeno', 'pequeno', 'pequeno', 'pequeno', 'pequeno', 'pequeno', 'pequeno', 'pequeno', 'pequeno', 'pequeno', 'pequeno', 'pequeno', 'pequeno', 'pequeno', 'pequeno', 'pequeno', 'pequeno', 'pequeno', 'pequeno', 'pequeno', 'pequeno', 'pequeno', 'pequeno', 'pequeno', 'pequeno', 'pequeno', 'pequeno', 'pequeno', 'pequeno', 'pequeno', 'pequeno', 'pequeno', 'pequeno', 'pequeno', 'pequeno', 'pequeno', 'pequeno', 'pequeno', 'pequeno', 'médio', 'médio', 'médio', 'médio', 'médio', 'médio', 'médio', 'médio', 'médio', 'médio', 'médio', 'médio', 'médio', 'médio', 'médio', 'médio', 'médio', 'médio', 'médio', 'médio', 'médio', 'médio', 'médio', 'médio', 'médio', 'médio', 'médio', 'grande', 'médio', 'médio', 'médio', 'médio', 'médio', 'grande', 'médio', 'médio', 'médio', 'médio', 'médio', 'médio', 'médio', 'médio', 'médio', 'médio', 'médio', 'médio', 'médio', 'médio', 'médio', 'médio', 'grande', 'grande', 'grande', 'grande', 'grande', 'grande', 'médio', 'grande', 'grande', 'grande', 'grande', 'grande', 'grande', 'grande', 'grande', 'grande', 'grande', 'grande', 'grande', 'grande', 'grande', 'médio', 'grande', 'médio', 'grande', 'grande', 'médio', 'médio', 'grande', 'grande', 'grande', 'grande', 'grande', 'grande', 'grande', 'grande', 'grande', 'grande', 'médio', 'grande', 'grande', 'grande', 'grande', 'grande', 'grande', 'grande', 'grande', 'grande', 'grande', 'grande']\n"
     ]
    }
   ],
   "source": [
    "## EXE 13 - Mapeie terceira coluna (petallength)(, 2) de tal forma que os valores numéricos sejam substituídos \n",
    "# por valores textuais, seguindo de acordo com a tabela abaixo:\n",
    "\n",
    "iris = np.genfromtxt(iris_dataset_url, delimiter=',', dtype='object')\n",
    "\n",
    "intervalo = np.digitize(iris[:, 2].astype('float'), [0, 3, 5, 10])\n",
    "mapeamento = {1: 'pequeno', 2:'médio', 3:'grande', 4: np.nan}\n",
    "classificacao = [mapeamento[valor] for valor in intervalo]\n",
    "\n",
    "print(classificacao)"
   ]
  },
  {
   "cell_type": "code",
   "execution_count": 20,
   "metadata": {},
   "outputs": [
    {
     "name": "stdout",
     "output_type": "stream",
     "text": [
      "[[b'5.1' b'3.5' b'1.4' b'0.2' b'Iris-setosa' 38.13265162927291]\n",
      " [b'4.9' b'3.0' b'1.4' b'0.2' b'Iris-setosa' 35.200498485922445]\n",
      " [b'4.7' b'3.2' b'1.3' b'0.2' b'Iris-setosa' 30.0723720777127]\n",
      " [b'4.6' b'3.1' b'1.5' b'0.2' b'Iris-setosa' 33.238050274980004]\n",
      " [b'5.0' b'3.6' b'1.4' b'0.2' b'Iris-setosa' 36.65191429188092]]\n"
     ]
    }
   ],
   "source": [
    "## EXE 14 - Crie uma nova coluna chamada volume, preenchida com dados resultantes da seguinte equação:\n",
    "\n",
    "# 𝑣𝑜𝑙𝑢𝑚𝑒 = ( 𝑃𝑖 𝑥 𝑃𝑒𝑡𝑎𝑙𝑙𝑒𝑛𝑔𝑡ℎ 𝑥 𝑆𝑒𝑝𝑎𝑙𝐿𝑒𝑛𝑔𝑡ℎ2 ) / 3\n",
    "\n",
    "iris = np.genfromtxt(iris_dataset_url, delimiter=',', dtype='object')\n",
    "\n",
    "# Calular o volume\n",
    "sepallenghth = iris[:, 0].astype('float')\n",
    "petallength = iris[:, 2].astype('float')\n",
    "volume = (np.pi * petallength * (sepallenghth ** 2)) / 3\n",
    "\n",
    "# Criar nova dimensão\n",
    "volume = volume[:, np.newaxis]\n",
    "\n",
    "# Adiciona um nova coluna com a dimensão criada\n",
    "saida = np.hstack([iris, volume])\n",
    "\n",
    "print(saida[:5])"
   ]
  },
  {
   "cell_type": "code",
   "execution_count": 27,
   "metadata": {},
   "outputs": [
    {
     "name": "stdout",
     "output_type": "stream",
     "text": [
      "6.7\n"
     ]
    }
   ],
   "source": [
    "## EXE 15 - Usando NumPy e o dataset iris responda:\n",
    "# Qual é o segundo maior valor de comprimento de pétala (petallength) da espécie setosa?\n",
    "\n",
    "iris = np.genfromtxt(iris_dataset_url, delimiter=',', dtype='object')\n",
    "\n",
    "iris2 = iris[iris[:, 2].argsort()]\n",
    "\n",
    "petallength2 = iris2[:, 2].astype(float)\n",
    "\n",
    "local = len(petallength2)-2\n",
    "\n",
    "print(petallength2[local])\n"
   ]
  },
  {
   "cell_type": "code",
   "execution_count": 30,
   "metadata": {},
   "outputs": [
    {
     "name": "stdout",
     "output_type": "stream",
     "text": [
      "[[b'4.3' b'3.0' b'1.1' b'0.1' b'Iris-setosa']\n",
      " [b'4.4' b'3.2' b'1.3' b'0.2' b'Iris-setosa']\n",
      " [b'4.4' b'3.0' b'1.3' b'0.2' b'Iris-setosa']\n",
      " [b'4.4' b'2.9' b'1.4' b'0.2' b'Iris-setosa']\n",
      " [b'4.5' b'2.3' b'1.3' b'0.3' b'Iris-setosa']\n",
      " [b'4.6' b'3.6' b'1.0' b'0.2' b'Iris-setosa']\n",
      " [b'4.6' b'3.1' b'1.5' b'0.2' b'Iris-setosa']\n",
      " [b'4.6' b'3.4' b'1.4' b'0.3' b'Iris-setosa']\n",
      " [b'4.6' b'3.2' b'1.4' b'0.2' b'Iris-setosa']\n",
      " [b'4.7' b'3.2' b'1.3' b'0.2' b'Iris-setosa']]\n"
     ]
    }
   ],
   "source": [
    "## EXE 16 - Ordene o dataset iris com base na coluna sepallength de maneira crescente.\n",
    "\n",
    "iris = np.genfromtxt(iris_dataset_url, delimiter=',', dtype='object')\n",
    "\n",
    "print(iris[iris[:, 0].argsort()][:10])\n"
   ]
  },
  {
   "cell_type": "code",
   "execution_count": 109,
   "metadata": {},
   "outputs": [
    {
     "name": "stdout",
     "output_type": "stream",
     "text": [
      "[b'1.0' b'1.1' b'1.2' b'1.3' b'1.4' b'1.5' b'1.6' b'1.7' b'1.9' b'3.0'\n",
      " b'3.3' b'3.5' b'3.6' b'3.7' b'3.8' b'3.9' b'4.0' b'4.1' b'4.2' b'4.3'\n",
      " b'4.4' b'4.5' b'4.6' b'4.7' b'4.8' b'4.9' b'5.0' b'5.1' b'5.2' b'5.3'\n",
      " b'5.4' b'5.5' b'5.6' b'5.7' b'5.8' b'5.9' b'6.0' b'6.1' b'6.3' b'6.4'\n",
      " b'6.6' b'6.7' b'6.9']\n",
      "[ 1  1  2  7 12 14  7  4  2  1  2  2  1  1  1  3  5  3  4  2  4  8  3  5\n",
      "  4  5  4  8  2  2  2  3  6  3  3  2  2  3  1  1  1  2  1]\n"
     ]
    },
    {
     "data": {
      "text/plain": [
       "b'1.5'"
      ]
     },
     "execution_count": 109,
     "metadata": {},
     "output_type": "execute_result"
    }
   ],
   "source": [
    "## EXE 17 - Encontre o valor mais frequente da terceira coluna (petallength) do dataset iris.\n",
    "\n",
    "iris = np.genfromtxt(iris_dataset_url, delimiter=',', dtype='object')\n",
    "\n",
    "valores, contagem = np.unique(iris[:, 2], return_counts = True)\n",
    "print(valores)\n",
    "print(contagem)\n",
    "valores[np.argmax(contagem)]"
   ]
  },
  {
   "cell_type": "code",
   "execution_count": 32,
   "metadata": {},
   "outputs": [
    {
     "data": {
      "text/plain": [
       "array([50], dtype=int64)"
      ]
     },
     "execution_count": 32,
     "metadata": {},
     "output_type": "execute_result"
    }
   ],
   "source": [
    "## EXE 18 - Encontre a posição da primeira ocorrência de um valor maior do que 1.0\n",
    "# da quarta coluna (petalwidth) do dataset iris.\n",
    "\n",
    "iris = np.genfromtxt(iris_dataset_url, delimiter=',', dtype='object')\n",
    "\n",
    "np.argwhere(iris[:, 3].astype('float') > 1.0)[0]\n"
   ]
  },
  {
   "cell_type": "code",
   "execution_count": 34,
   "metadata": {},
   "outputs": [
    {
     "name": "stdout",
     "output_type": "stream",
     "text": [
      "[27.62684215 14.64009987 21.80136195 42.39403048  1.23122395  6.95688692\n",
      " 33.86670515 41.466785    7.69862289 29.17957314 44.67477576 11.25090398\n",
      " 10.08108276  6.31046763 11.76517714 48.95256545 40.77247431  9.42510962\n",
      " 40.99501269 14.42961361]\n",
      "40.77247430537684\n",
      "[[ 3]\n",
      " [ 7]\n",
      " [10]\n",
      " [15]\n",
      " [18]]\n"
     ]
    },
    {
     "data": {
      "text/plain": [
       "array([15, 10,  3,  7, 18], dtype=int64)"
      ]
     },
     "execution_count": 34,
     "metadata": {},
     "output_type": "execute_result"
    }
   ],
   "source": [
    "## EXE 19 - Obtenha a posição dos top 5 valores maxímos do vetor abaixo:\n",
    "\n",
    "#Solução Alessandra\n",
    "np.random.seed(100)\n",
    "vetor = np.random.uniform(1,50, 20)\n",
    "\n",
    "vetor2 = vetor[vetor.argsort()]\n",
    "\n",
    "print(vetor)\n",
    "\n",
    "parametro = vetor2[len(vetor) - 6]\n",
    "\n",
    "print(parametro)\n",
    "\n",
    "print(np.argwhere(vetor.astype('float') > parametro))\n",
    "\n",
    "#outra solução apresentada pelo professor\n",
    "np.argpartition(-vetor, 5)[:5]"
   ]
  },
  {
   "cell_type": "code",
   "execution_count": 5,
   "metadata": {},
   "outputs": [
    {
     "data": {
      "text/plain": [
       "[[b'Iris-setosa', 3.418],\n",
       " [b'Iris-versicolor', 2.7700000000000005],\n",
       " [b'Iris-virginica', 2.974]]"
      ]
     },
     "execution_count": 5,
     "metadata": {},
     "output_type": "execute_result"
    }
   ],
   "source": [
    "## EXE 20 - Encontre a média de uma coluna numérica agrupada por uma coluna categórica em uma matriz (vetor numpy 2D)\n",
    "\n",
    "iris = np.genfromtxt(iris_dataset_url, delimiter=',', dtype='object')\n",
    "colunas = ('sepallenghth', 'sapalwidth', 'petallength', 'petalwidth', 'species')\n",
    "\n",
    "coluna_numerica = iris[:, 1].astype('float')\n",
    "coluna_categorica = iris[:, 4]\n",
    "\n",
    "saida = []\n",
    "\n",
    "for categoria in np.unique(coluna_categorica):\n",
    "    saida.append([categoria, coluna_numerica[coluna_categorica == categoria].mean()])\n",
    "\n",
    "saida"
   ]
  },
  {
   "cell_type": "code",
   "execution_count": null,
   "metadata": {},
   "outputs": [],
   "source": []
  }
 ],
 "metadata": {
  "kernelspec": {
   "display_name": "Python 3",
   "language": "python",
   "name": "python3"
  },
  "language_info": {
   "codemirror_mode": {
    "name": "ipython",
    "version": 3
   },
   "file_extension": ".py",
   "mimetype": "text/x-python",
   "name": "python",
   "nbconvert_exporter": "python",
   "pygments_lexer": "ipython3",
   "version": "3.7.3"
  }
 },
 "nbformat": 4,
 "nbformat_minor": 2
}
